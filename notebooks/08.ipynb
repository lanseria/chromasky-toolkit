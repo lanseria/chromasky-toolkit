{
 "cells": [
  {
   "cell_type": "code",
   "execution_count": 2,
   "id": "a169d88a",
   "metadata": {},
   "outputs": [
    {
     "name": "stdout",
     "output_type": "stream",
     "text": [
      "原始 GFS 网格尺寸: FrozenMappingWarningOnValuesAccess({'latitude': 211, 'longitude': 238})\n",
      "原始 AOD 网格尺寸: FrozenMappingWarningOnValuesAccess({'latitude': 337, 'longitude': 381})\n",
      "重采样后的 AOD 网格尺寸: FrozenMappingWarningOnValuesAccess({'latitude': 211, 'longitude': 238})\n",
      "最终合并后的 weather_data 网格尺寸: FrozenMappingWarningOnValuesAccess({'latitude': 211, 'longitude': 238})\n"
     ]
    }
   ],
   "source": [
    "import xarray as xr\n",
    "\n",
    "# --- 请根据你的实际情况修改下面的代码 ---\n",
    "\n",
    "# 1. 分别加载你的 GFS 数据和 AOD 数据\n",
    "# 假设 GFS 数据是高分辨率的基准数据\n",
    "gfs_data = xr.open_dataset(\"../src/data/processed/future/2025-08-11/aod550_1800.nc\") \n",
    "# 假设 AOD 数据是不同分辨率的数据\n",
    "aod_data = xr.open_dataset(\"../src/data/processed/future/2025-08-11/hcc_1800.nc\")\n",
    "\n",
    "# 2. 【关键步骤】将 AOD 数据重采样到 GFS 数据的网格上\n",
    "print(f\"原始 GFS 网格尺寸: {gfs_data.dims}\")\n",
    "print(f\"原始 AOD 网格尺寸: {aod_data.dims}\")\n",
    "\n",
    "# 使用 interp_like 将 aod_data 插值到 gfs_data 的坐标上\n",
    "# method='linear' 是常用的线性插值方法\n",
    "aod_resampled = aod_data.interp_like(gfs_data, method='linear', kwargs={\"fill_value\": 0.0})\n",
    "\n",
    "# 处理插值后可能产生的边缘 NaN 值\n",
    "aod_resampled = aod_resampled.fillna(0.0)\n",
    "\n",
    "print(f\"重采样后的 AOD 网格尺寸: {aod_resampled.dims}\")\n",
    "\n",
    "# 3. 将对齐后的数据合并\n",
    "# 现在两个 Dataset 的坐标完全一致，合并不会创建新点\n",
    "weather_data = xr.merge([gfs_data, aod_resampled])\n",
    "\n",
    "print(f\"最终合并后的 weather_data 网格尺寸: {weather_data.dims}\")\n",
    "# 你会发现，最终尺寸应该和原始 GFS 数据的尺寸完全一样\n",
    "\n",
    "# 4. 现在，使用这个完美对齐的 weather_data 初始化你的计算器\n",
    "# calculator = GlowIndexCalculator(weather_data)\n",
    "# ... 后续的所有计算 ...\n",
    "# active_mask 的大小将恢复正常，处理量也会回到 1w+ 的水平"
   ]
  }
 ],
 "metadata": {
  "kernelspec": {
   "display_name": "chromasky-toolkit (3.12.9)",
   "language": "python",
   "name": "python3"
  },
  "language_info": {
   "codemirror_mode": {
    "name": "ipython",
    "version": 3
   },
   "file_extension": ".py",
   "mimetype": "text/x-python",
   "name": "python",
   "nbconvert_exporter": "python",
   "pygments_lexer": "ipython3",
   "version": "3.12.9"
  }
 },
 "nbformat": 4,
 "nbformat_minor": 5
}
